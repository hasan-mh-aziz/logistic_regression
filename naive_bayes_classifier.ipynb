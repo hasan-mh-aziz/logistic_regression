{
 "cells": [
  {
   "cell_type": "code",
   "execution_count": 79,
   "metadata": {},
   "outputs": [],
   "source": [
    "import numpy as np\n",
    "from numpy.linalg import eig\n",
    "from numpy.linalg import inv,pinv\n",
    "import pandas as pd\n",
    "import csv\n",
    "from collections import defaultdict\n",
    "from functools import partial\n",
    "import matplotlib.cm as cm\n",
    "import matplotlib.pyplot as plt\n",
    "from IPython.display import display\n",
    "import math\n",
    "%run common_functions.ipynb"
   ]
  },
  {
   "cell_type": "code",
   "execution_count": 94,
   "metadata": {},
   "outputs": [],
   "source": [
    "class naive_bayes_classifier:\n",
    "    def __init__(self):\n",
    "        self.class_means, self.class_stds, self.class_priors = {}, {}, {}\n",
    "        self.N = None\n",
    "    \n",
    "\n",
    "    # model a multi-variate Gaussian distribution for each class’ likelihood distribution P(x|Ck)\n",
    "    def fit(self, x, y):\n",
    "        dataset = get_data_grouped_by_class(x, y)\n",
    "        self.N = y.shape[0]\n",
    "        \n",
    "        for class_id, features_k in dataset.items():\n",
    "            features_k = np.asarray(features_k)\n",
    "            self.class_means[class_id] = np.mean(features_k, axis=0)\n",
    "            self.class_stds[class_id] = np.std(features_k, axis=0)\n",
    "            self.class_priors[class_id] = features_k.shape[0] / self.N\n",
    "#             print(features_k.shape[0])\n",
    "            \n",
    "#         print(self.class_priors)\n",
    "            \n",
    "  \n",
    "    def calculate_probability(self, x, mean, std):\n",
    "#         np.divide(a, b, out=np.zeros_like(a), where=b!=0)\n",
    "        exponent = np.exp(-(np.divide(np.square(x - mean) / 2, np.square(std))))\n",
    "        feature_probabilities = np.multiply(np.divide(1, (np.sqrt(2 * np.pi) * std)), exponent)\n",
    "        feature_probabilities[std == 0] = 1\n",
    "        return np.prod(feature_probabilities)\n",
    "    \n",
    "\n",
    "    def predict(self, x, y):\n",
    "        likelihoods = []\n",
    "        classes = np.asarray(list(self.class_means.keys()))\n",
    "        \n",
    "        for x_i in x:\n",
    "            row = []\n",
    "            for class_id in classes:  # iterate through all the classes to get probabilities for each class\n",
    "                probabilities = self.calculate_probability(x_i, self.class_means[class_id], self.class_stds[class_id]) \n",
    "                res = self.class_priors[class_id] * probabilities\n",
    "                # Compute the posterios P(Ck|x) prob of a class k given a point x\n",
    "                row.append(res)\n",
    "            likelihoods.append(row)\n",
    "\n",
    "        likelihoods = np.asarray(likelihoods)\n",
    "#         print(likelihoods)\n",
    "\n",
    "        # assign x to the class with the largest posterior probability\n",
    "        predictions = classes[np.argmax(likelihoods, axis=1)]\n",
    "        return np.sum(predictions == y[:, 0]) / len(y) * 100, predictions"
   ]
  },
  {
   "cell_type": "code",
   "execution_count": null,
   "metadata": {},
   "outputs": [],
   "source": []
  },
  {
   "cell_type": "code",
   "execution_count": null,
   "metadata": {},
   "outputs": [],
   "source": []
  }
 ],
 "metadata": {
  "kernelspec": {
   "display_name": "Python 3",
   "language": "python",
   "name": "python3"
  },
  "language_info": {
   "codemirror_mode": {
    "name": "ipython",
    "version": 3
   },
   "file_extension": ".py",
   "mimetype": "text/x-python",
   "name": "python",
   "nbconvert_exporter": "python",
   "pygments_lexer": "ipython3",
   "version": "3.7.3"
  }
 },
 "nbformat": 4,
 "nbformat_minor": 4
}
