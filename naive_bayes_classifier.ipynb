{
 "cells": [
  {
   "cell_type": "code",
   "execution_count": 79,
   "metadata": {},
   "outputs": [],
   "source": [
    "import numpy as np\n",
    "from numpy.linalg import eig\n",
    "from numpy.linalg import inv,pinv\n",
    "import pandas as pd\n",
    "import csv\n",
    "from collections import defaultdict\n",
    "from functools import partial\n",
    "import matplotlib.cm as cm\n",
    "import matplotlib.pyplot as plt\n",
    "from IPython.display import display\n",
    "import math\n",
    "%run common_functions.ipynb"
   ]
  },
  {
   "cell_type": "code",
   "execution_count": 94,
   "metadata": {},
   "outputs": [],
   "source": [
    "class naive_bayes_classifier:\n",
    "    def __init__(self):\n",
    "        self.class_means, self.class_stds, self.class_priors = {}, {}, {}\n",
    "        self.N = None\n",
    "    \n",
    "\n",
    "    # model a multi-variate Gaussian distribution for each class’ likelihood distribution P(x|Ck)\n",
    "    def fit(self, x, y):\n",
    "        dataset = get_data_grouped_by_class(x, y)\n",
    "        self.N = y.shape[0]\n",
    "        \n",
    "        for class_id, features_k in dataset.items():\n",
    "            features_k = np.asarray(features_k)\n",
    "            self.class_means[class_id] = np.mean(features_k, axis=0)\n",
    "            self.class_stds[class_id] = np.std(features_k, axis=0)\n",
    "            self.class_priors[class_id] = features_k.shape[0] / self.N\n",
    "#             print(features_k.shape[0])\n",
    "            \n",
    "#         print(self.class_priors)\n",
    "            \n",
    "  \n",
    "    def calculate_probability(self, x, mean, std):\n",
    "#         np.divide(a, b, out=np.zeros_like(a), where=b!=0)\n",
    "        exponent = np.exp(-(np.divide(np.square(x - mean) / 2, np.square(std))))\n",
    "        feature_probabilities = np.multiply(np.divide(1, (np.sqrt(2 * np.pi) * std)), exponent)\n",
    "        feature_probabilities[std == 0] = 1\n",
    "        return np.prod(feature_probabilities)\n",
    "    \n",
    "\n",
    "    def predict(self, x, y):\n",
    "        likelihoods = []\n",
    "        classes = np.asarray(list(self.class_means.keys()))\n",
    "        \n",
    "        for x_i in x:\n",
    "            row = []\n",
    "            for class_id in classes:  # iterate through all the classes to get probabilities for each class\n",
    "                probabilities = self.calculate_probability(x_i, self.class_means[class_id], self.class_stds[class_id]) \n",
    "                res = self.class_priors[class_id] * probabilities\n",
    "                # Compute the posterios P(Ck|x) prob of a class k given a point x\n",
    "                row.append(res)\n",
    "            likelihoods.append(row)\n",
    "\n",
    "        likelihoods = np.asarray(likelihoods)\n",
    "#         print(likelihoods)\n",
    "\n",
    "        # assign x to the class with the largest posterior probability\n",
    "        predictions = classes[np.argmax(likelihoods, axis=1)]\n",
    "        return np.sum(predictions == y[:, 0]) / len(y) * 100, predictions"
   ]
  },
  {
   "cell_type": "code",
   "execution_count": 95,
   "metadata": {},
   "outputs": [
    {
     "name": "stdout",
     "output_type": "stream",
     "text": [
      "x:  (1797, 64)\n",
      "y:  (1797, 1)\n",
      "[0. 1. 2. 3. 4. 5. 6. 7. 8. 9.]\n"
     ]
    },
    {
     "name": "stderr",
     "output_type": "stream",
     "text": [
      "/home/hasan/Installations/miniconda3/envs/AML/lib/python3.7/site-packages/ipykernel_launcher.py:24: RuntimeWarning: divide by zero encountered in true_divide\n",
      "/home/hasan/Installations/miniconda3/envs/AML/lib/python3.7/site-packages/ipykernel_launcher.py:24: RuntimeWarning: invalid value encountered in true_divide\n",
      "/home/hasan/Installations/miniconda3/envs/AML/lib/python3.7/site-packages/ipykernel_launcher.py:25: RuntimeWarning: divide by zero encountered in true_divide\n",
      "/home/hasan/Installations/miniconda3/envs/AML/lib/python3.7/site-packages/ipykernel_launcher.py:25: RuntimeWarning: invalid value encountered in multiply\n"
     ]
    },
    {
     "name": "stdout",
     "output_type": "stream",
     "text": [
      "90.54242002781642 89.97214484679665\n",
      "Fold#1 of 10:\n",
      "Fold#2 of 10:\n",
      "Fold#3 of 10:\n",
      "Fold#4 of 10:\n",
      "Fold#5 of 10:\n",
      "Fold#6 of 10:\n",
      "Fold#7 of 10:\n",
      "Fold#8 of 10:\n",
      "Fold#9 of 10:\n",
      "Fold#10 of 10:\n",
      "   Train errors(%)  Test errors(%)\n",
      "0         8.596166       12.222222\n",
      "1         8.596166       10.555556\n",
      "2         8.905380       11.666667\n",
      "3         9.400124        7.222222\n",
      "4         9.276438        7.222222\n",
      "5         8.596166        8.888889\n",
      "6         8.905380       13.333333\n",
      "7         9.270705        8.379888\n",
      "8         9.208900        8.379888\n",
      "9         9.394314        8.379888\n"
     ]
    }
   ],
   "source": [
    "with open('digits.csv', 'r') as csvfile:\n",
    "    digitDataset = np.asarray(list(csv.reader(csvfile, quoting=csv.QUOTE_NONNUMERIC)))\n",
    "    \n",
    "x = digitDataset[:, :-1]\n",
    "y = digitDataset[:, -1:]\n",
    "print(\"x: \", x.shape)\n",
    "print(\"y: \", y.shape)\n",
    "print(np.unique(y))\n",
    "\n",
    "nb = naive_bayes_classifier()\n",
    "\n",
    "train_indices, test_indices = get_train_test_indices_by_train_percentage(80, y.shape[0], shuffle=True)\n",
    "train_x = x[train_indices]\n",
    "test_x = x[test_indices]\n",
    "train_y = y[train_indices]\n",
    "test_y = y[test_indices]\n",
    "\n",
    "nb.fit(train_x, train_y)\n",
    "\n",
    "split_train_accuracy, split_train_predictions = nb.predict(train_x, train_y)\n",
    "split_test_accuracy, split_test_predictions = nb.predict(test_x, test_y)\n",
    "print(split_train_accuracy, split_test_accuracy)\n",
    "\n",
    "k = 10\n",
    "k_folded_train_indices, k_folded_test_indices = get_k_fold_indices(k, y.shape[0], shuffle=True)\n",
    "\n",
    "folds_errors = []\n",
    "\n",
    "for fold, train_indices in enumerate(k_folded_train_indices):\n",
    "    print(f'Fold#{fold + 1} of {k}:')\n",
    "    test_indices = k_folded_test_indices[fold]\n",
    "    \n",
    "    train_x = x[train_indices]\n",
    "    test_x = x[test_indices]\n",
    "    train_y = y[train_indices]\n",
    "    test_y = y[test_indices]\n",
    "    \n",
    "    nb.fit(train_x, train_y)\n",
    "\n",
    "    train_accuracy, train_predictions = nb.predict(train_x, train_y)\n",
    "    test_accuracy, test_predictions = nb.predict(test_x, test_y)\n",
    "#     print(train_accuracy)\n",
    "    folds_errors.append([100 - train_accuracy, 100 - test_accuracy])\n",
    "\n",
    "# print(all_projected_test_features)\n",
    "errors_df = pd.DataFrame(folds_errors, columns = [\"Train errors(%)\", \"Test errors(%)\"])\n",
    "print(errors_df)"
   ]
  },
  {
   "cell_type": "code",
   "execution_count": null,
   "metadata": {},
   "outputs": [],
   "source": []
  },
  {
   "cell_type": "code",
   "execution_count": null,
   "metadata": {},
   "outputs": [],
   "source": []
  }
 ],
 "metadata": {
  "kernelspec": {
   "display_name": "Python 3",
   "language": "python",
   "name": "python3"
  },
  "language_info": {
   "codemirror_mode": {
    "name": "ipython",
    "version": 3
   },
   "file_extension": ".py",
   "mimetype": "text/x-python",
   "name": "python",
   "nbconvert_exporter": "python",
   "pygments_lexer": "ipython3",
   "version": "3.7.3"
  }
 },
 "nbformat": 4,
 "nbformat_minor": 4
}
