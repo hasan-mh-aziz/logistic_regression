{
 "cells": [
  {
   "cell_type": "code",
   "execution_count": 1,
   "metadata": {},
   "outputs": [
    {
     "name": "stdout",
     "output_type": "stream",
     "text": [
      "x:  (1797, 64)\n",
      "y:  (1797, 1)\n",
      "[0. 1. 2. 3. 4. 5. 6. 7. 8. 9.]\n"
     ]
    }
   ],
   "source": [
    "import numpy as np\n",
    "from numpy.linalg import eig\n",
    "from numpy.linalg import inv,pinv\n",
    "import pandas as pd\n",
    "import csv\n",
    "from collections import defaultdict\n",
    "from functools import partial\n",
    "import matplotlib.cm as cm\n",
    "import matplotlib.pyplot as plt\n",
    "from IPython.display import display\n",
    "import math\n",
    "%run common_functions.ipynb\n",
    "%run naive_bayes_classifier.ipynb\n",
    "%run logisticRegression.ipynb"
   ]
  },
  {
   "cell_type": "code",
   "execution_count": 2,
   "metadata": {},
   "outputs": [
    {
     "name": "stdout",
     "output_type": "stream",
     "text": [
      "x:  (1797, 64)\n",
      "y:  (1797, 1)\n",
      "[0. 1. 2. 3. 4. 5. 6. 7. 8. 9.]\n"
     ]
    }
   ],
   "source": [
    "with open('digits.csv', 'r') as csvfile:\n",
    "    digitDataset = np.asarray(list(csv.reader(csvfile, quoting=csv.QUOTE_NONNUMERIC)))\n",
    "    \n",
    "x = digitDataset[:, :-1]\n",
    "y = digitDataset[:, -1:]\n",
    "print(\"x: \", x.shape)\n",
    "print(\"y: \", y.shape)\n",
    "print(np.unique(y))\n"
   ]
  },
  {
   "cell_type": "code",
   "execution_count": null,
   "metadata": {},
   "outputs": [
    {
     "name": "stdout",
     "output_type": "stream",
     "text": [
      "Fold#1 of 10:\n",
      "\r",
      "Logistic Regression Progress: |--------------------------------------------------| 0.0% Complete\r",
      "\r",
      "Logistic Regression Progress: |█████---------------------------------------------| 10.0% Complete\r",
      "\r",
      "Logistic Regression Progress: |██████████----------------------------------------| 20.0% Complete\r"
     ]
    },
    {
     "name": "stderr",
     "output_type": "stream",
     "text": [
      "/home/hasan/Installations/miniconda3/envs/AML/lib/python3.7/site-packages/ipykernel_launcher.py:25: RuntimeWarning: divide by zero encountered in log\n",
      "/home/hasan/Installations/miniconda3/envs/AML/lib/python3.7/site-packages/ipykernel_launcher.py:25: RuntimeWarning: invalid value encountered in multiply\n"
     ]
    },
    {
     "name": "stdout",
     "output_type": "stream",
     "text": [
      "Logistic Regression Progress: |██████████████████████████████████████████████████| 100.0% Complete\n"
     ]
    },
    {
     "name": "stderr",
     "output_type": "stream",
     "text": [
      "/home/hasan/Installations/miniconda3/envs/AML/lib/python3.7/site-packages/ipykernel_launcher.py:24: RuntimeWarning: invalid value encountered in true_divide\n",
      "/home/hasan/Installations/miniconda3/envs/AML/lib/python3.7/site-packages/ipykernel_launcher.py:25: RuntimeWarning: divide by zero encountered in true_divide\n",
      "/home/hasan/Installations/miniconda3/envs/AML/lib/python3.7/site-packages/ipykernel_launcher.py:24: RuntimeWarning: divide by zero encountered in true_divide\n"
     ]
    },
    {
     "name": "stdout",
     "output_type": "stream",
     "text": [
      "Fold#2 of 10:\n",
      "Logistic Regression Progress: |██████████████████████████████████████████████████| 100.0% Complete\n",
      "Fold#3 of 10:\n",
      "Logistic Regression Progress: |██████████████████████████████████████████████████| 100.0% Complete\n",
      "Fold#4 of 10:\n",
      "Logistic Regression Progress: |██████████████████████████████████████████████████| 100.0% Complete\n",
      "Fold#5 of 10:\n",
      "Logistic Regression Progress: |██████████████████████████████████████████████████| 100.0% Complete\n",
      "Fold#6 of 10:\n",
      "Logistic Regression Progress: |██████████████████████████████████████████████████| 100.0% Complete\n",
      "Fold#7 of 10:\n",
      "Logistic Regression Progress: |██████████████████████████████████████████████████| 100.0% Complete\n",
      "Fold#8 of 10:\n",
      "Logistic Regression Progress: |██████████████████████████████████████████████████| 100.0% Complete\n",
      "Fold#9 of 10:\n",
      "Logistic Regression Progress: |██████████████████████████████████████████████████| 100.0% Complete\n"
     ]
    }
   ],
   "source": [
    "# initialize Logistic regression. Default maximum iteration for gradient descent  is 5000\n",
    "# and thresold for cost is 0.001\n",
    "lg = LogisticRegression()\n",
    "# initialize Naive Bayes\n",
    "nb = naive_bayes_classifier()\n",
    "\n",
    "# k-fold cross validaion\n",
    "k = 10\n",
    "# get the train and test indices for k-fold cross validation\n",
    "k_folded_train_indices, k_folded_test_indices = get_k_fold_indices(k, y.shape[0], shuffle=True)\n",
    "\n",
    "folds_errors = []\n",
    "\n",
    "for fold, train_indices in enumerate(k_folded_train_indices):\n",
    "    print(f'Fold#{fold + 1} of {k}:')\n",
    "    test_indices = k_folded_test_indices[fold]\n",
    "    \n",
    "    train_x = x[train_indices]\n",
    "    test_x = x[test_indices]\n",
    "    train_y = y[train_indices]\n",
    "    test_y = y[test_indices]\n",
    "    \n",
    "    class_costs = lg.fit(train_x, train_y)\n",
    "    nb.fit(train_x, train_y)\n",
    "\n",
    "    train_accuracy, train_predictions = lg.predict(train_x, train_y)\n",
    "    test_accuracy, test_predictions = lg.predict(test_x, test_y)\n",
    "    nb_train_accuracy, nb_train_predictions = nb.predict(train_x, train_y)\n",
    "    nb_test_accuracy, nb_test_predictions = nb.predict(test_x, test_y)\n",
    "#     print(train_accuracy)\n",
    "    folds_errors.append([100 - train_accuracy, 100 - test_accuracy, 100 - nb_train_accuracy, 100 - nb_test_accuracy])\n",
    "\n",
    "errors_df = pd.DataFrame(folds_errors, columns = [\"LG Train errors(%)\", \"LG Test errors(%)\", \"NB rain errors(%)\", \"NB Test errors(%)\"])\n",
    "errors_df"
   ]
  },
  {
   "cell_type": "code",
   "execution_count": 4,
   "metadata": {},
   "outputs": [
    {
     "data": {
      "image/png": "[encoded data removed]",
      "text/plain": [
       "<Figure size 432x288 with 1 Axes>"
      ]
     },
     "metadata": {
      "needs_background": "light"
     },
     "output_type": "display_data"
    }
   ],
   "source": [
    "folds_errors = np.asarray(folds_errors)\n",
    "labels = [\"lg_train\", \"lg_test\", \"nb_train\", \"nb_test\"]\n",
    "\n",
    "for i in range(folds_errors.shape[1]):\n",
    "    plt.plot(folds_errors[:, i], label=labels[i])\n",
    "    \n",
    "plt.xlabel(\"#fold\")\n",
    "plt.ylabel(\"Error(%)\")\n",
    "plt.title(f\"Logistic regression and Naive Bayes Classifier on {k}-fold cross vaidation\")\n",
    "plt.legend(bbox_to_anchor=(1.05, 1), loc=\"upper left\", borderaxespad=0.)\n",
    "plt.show()"
   ]
  },
  {
   "cell_type": "code",
   "execution_count": 5,
   "metadata": {},
   "outputs": [
    {
     "name": "stdout",
     "output_type": "stream",
     "text": [
      "\r",
      "Logistic Regression Progress: |--------------------------------------------------| 0.0% Complete\r",
      "\r",
      "Logistic Regression Progress: |█████---------------------------------------------| 10.0% Complete\r",
      "\r",
      "Logistic Regression Progress: |██████████----------------------------------------| 20.0% Complete\r"
     ]
    },
    {
     "name": "stderr",
     "output_type": "stream",
     "text": [
      "/home/hasan/Installations/miniconda3/envs/AML/lib/python3.7/site-packages/ipykernel_launcher.py:25: RuntimeWarning: divide by zero encountered in log\n",
      "/home/hasan/Installations/miniconda3/envs/AML/lib/python3.7/site-packages/ipykernel_launcher.py:25: RuntimeWarning: invalid value encountered in multiply\n"
     ]
    },
    {
     "name": "stdout",
     "output_type": "stream",
     "text": [
      "Logistic Regression Progress: |██████████████████████████████████████████████████| 100.0% Complete\n"
     ]
    },
    {
     "name": "stderr",
     "output_type": "stream",
     "text": [
      "/home/hasan/Installations/miniconda3/envs/AML/lib/python3.7/site-packages/ipykernel_launcher.py:24: RuntimeWarning: invalid value encountered in true_divide\n",
      "/home/hasan/Installations/miniconda3/envs/AML/lib/python3.7/site-packages/ipykernel_launcher.py:25: RuntimeWarning: divide by zero encountered in true_divide\n",
      "/home/hasan/Installations/miniconda3/envs/AML/lib/python3.7/site-packages/ipykernel_launcher.py:24: RuntimeWarning: divide by zero encountered in true_divide\n"
     ]
    },
    {
     "name": "stdout",
     "output_type": "stream",
     "text": [
      "   LG Train errors(%)  LG Test errors(%)  NB rain errors(%)  NB Test errors(%)\n",
      "0            2.155772           4.735376           9.040334           9.749304\n"
     ]
    }
   ],
   "source": [
    "# 80-20 split\n",
    "train_indices, test_indices = get_train_test_indices_by_train_percentage(80, y.shape[0], shuffle=True)\n",
    "train_x = x[train_indices]\n",
    "test_x = x[test_indices]\n",
    "train_y = y[train_indices]\n",
    "test_y = y[test_indices]\n",
    "\n",
    "class_costs = lg.fit(train_x, train_y)\n",
    "nb.fit(train_x, train_y)\n",
    "\n",
    "split_train_accuracy, split_train_predictions = lg.predict(train_x, train_y)\n",
    "split_test_accuracy, split_test_predictions = lg.predict(test_x, test_y)\n",
    "split_nb_train_accuracy, split_nb_train_predictions = nb.predict(train_x, train_y)\n",
    "split_nb_test_accuracy, split_nb_test_predictions = nb.predict(test_x, test_y)\n",
    "\n",
    "split_errors = [[100 - split_train_accuracy, 100 - split_test_accuracy, 100 - split_nb_train_accuracy, 100 - split_nb_test_accuracy]]\n",
    "\n",
    "split_errors_df = pd.DataFrame(split_errors, columns = [\"LG Train errors(%)\", \"LG Test errors(%)\", \"NB rain errors(%)\", \"NB Test errors(%)\"])\n",
    "print(split_errors_df)"
   ]
  },
  {
   "cell_type": "code",
   "execution_count": null,
   "metadata": {},
   "outputs": [],
   "source": []
  }
 ],
 "metadata": {
  "kernelspec": {
   "display_name": "Python 3",
   "language": "python",
   "name": "python3"
  },
  "language_info": {
   "codemirror_mode": {
    "name": "ipython",
    "version": 3
   },
   "file_extension": ".py",
   "mimetype": "text/x-python",
   "name": "python",
   "nbconvert_exporter": "python",
   "pygments_lexer": "ipython3",
   "version": "3.7.3"
  }
 },
 "nbformat": 4,
 "nbformat_minor": 4
}
