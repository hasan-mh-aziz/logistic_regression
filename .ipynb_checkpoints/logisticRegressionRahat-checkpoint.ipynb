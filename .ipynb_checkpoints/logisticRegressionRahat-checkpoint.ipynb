{
 "cells": [
  {
   "cell_type": "code",
   "execution_count": 11,
   "metadata": {},
   "outputs": [],
   "source": [
    "import numpy as np\n",
    "from numpy.linalg import eig\n",
    "from numpy.linalg import inv,pinv\n",
    "import pandas as pd\n",
    "import csv\n",
    "from collections import defaultdict\n",
    "from functools import partial\n",
    "import matplotlib.cm as cm\n",
    "import matplotlib.pyplot as plt\n",
    "from IPython.display import display\n",
    "import scipy.optimize as opt"
   ]
  },
  {
   "cell_type": "code",
   "execution_count": 142,
   "metadata": {},
   "outputs": [],
   "source": [
    "class LogisticRegression:\n",
    "    def __init__(self, lr=0.01, num_iter=100000, fit_intercept=True, verbose=False):\n",
    "        self.lr = lr\n",
    "        self.num_iter = num_iter\n",
    "        self.fit_intercept = fit_intercept\n",
    "    \n",
    "    def __add_intercept(self, X):\n",
    "        intercept = np.ones((X.shape[0], 1))\n",
    "        return np.concatenate((intercept, X), axis=1)\n",
    "    \n",
    "    def __sigmoid(self, z):\n",
    "        return 1 / (1 + np.exp(-z))\n",
    "    def __loss(self, h, y):\n",
    "        return (-y * np.log(h) - (1 - y) * np.log(1 - h)).mean()\n",
    "    \n",
    "    def fit(self, X, y):\n",
    "        if self.fit_intercept:\n",
    "            X = self.__add_intercept(X)\n",
    "        \n",
    "        # weights initialization\n",
    "        self.theta = np.zeros(X.shape[1])\n",
    "        \n",
    "        for i in range(self.num_iter):\n",
    "            z = np.dot(X, self.theta)\n",
    "            h = self.__sigmoid(z)\n",
    "            gradient = np.dot(X.T, (h - y)) / y.size\n",
    "            self.theta -= self.lr * gradient\n",
    "            \n",
    "            if(self.verbose == True and i % 10000 == 0):\n",
    "                z = np.dot(X, self.theta)\n",
    "                h = self.__sigmoid(z)\n",
    "                print(f'loss: {self.__loss(h, y)} \\t')\n",
    "    \n",
    "    def predict_prob(self, X):\n",
    "        if self.fit_intercept:\n",
    "            X = self.__add_intercept(X)\n",
    "    \n",
    "        return self.__sigmoid(np.dot(X, self.theta))\n",
    "    \n",
    "    def predict(self, X, threshold):\n",
    "        return self.predict_prob(X) >= threshold\n",
    "    \n",
    "def sigmoid(z):\n",
    "    return 1/(1+np.exp(-z))\n",
    "\n",
    "\n",
    "def getZ(x, theta):\n",
    "    return np.dot(x, theta.T)\n",
    "\n",
    "def getCost(theta, X, y, lmbda):\n",
    "    m = len(y)\n",
    "    sigma = sigmoid(getZ(X, theta))\n",
    "    positive_loss = np.multiply(y, np.log(sigma))\n",
    "    negative_loss = np.multiply(1 - y, np.log(1 - sigma))\n",
    "    return -np.mean(positive_loss + negative_loss)\n",
    "\n",
    "def getGradients(theta, X, y, lmbda):\n",
    "    m = len(y)\n",
    "    temp = sigmoid(getZ(X, theta)) - y\n",
    "# #     temp = np.dot(temp.T, X).T / m\n",
    "    return (1 / m) * np.dot(X.T, temp)\n",
    "#     return temp\n",
    "\n",
    "\n",
    "def gradientDescent(theta, X, y, lr=0.01, maxIter=500):\n",
    "    currentCost = getCost(theta, X, y, 1)\n",
    "    currentGradient = getGradients(theta, X, y, 1)\n",
    "    previousCost = currentCost\n",
    "    costs = [currentCost]\n",
    "#     print(f'iteration: -1')\n",
    "    \n",
    "    for iteration in range(maxIter):\n",
    "        theta -= lr*currentGradient\n",
    "        currentGradient = getGradients(theta, X, y, 1)\n",
    "        currentCost = getCost(theta, X, y, 1)\n",
    "        costs.append(currentCost)\n",
    "#         print(f'iteration: {iteration}')\n",
    "        \n",
    "#         if abs(previousCost - currentCost) < 0.01:\n",
    "#             print(\"das\")\n",
    "#             break\n",
    "        \n",
    "    return costs, theta\n",
    "        "
   ]
  },
  {
   "cell_type": "code",
   "execution_count": 143,
   "metadata": {},
   "outputs": [
    {
     "name": "stdout",
     "output_type": "stream",
     "text": [
      "x:  (1797, 64)\n",
      "y:  (1797, 1)\n",
      "[0. 1. 2. 3. 4. 5. 6. 7. 8. 9.]\n"
     ]
    }
   ],
   "source": [
    "with open('digits.csv', 'r') as csvfile:\n",
    "    digitDataset = np.asarray(list(csv.reader(csvfile, quoting=csv.QUOTE_NONNUMERIC)))\n",
    "    \n",
    "x = digitDataset[:, :-1]\n",
    "y = digitDataset[:, -1:]\n",
    "print(\"x: \", x.shape)\n",
    "print(\"y: \", y.shape)\n",
    "print(np.unique(y))\n",
    "m = y.shape[0]\n",
    "ones = np.ones((m,1))\n",
    "X = np.hstack((ones, x)) #add the intercept\n",
    "(m,n) = X.shape"
   ]
  },
  {
   "cell_type": "code",
   "execution_count": 144,
   "metadata": {},
   "outputs": [
    {
     "name": "stdout",
     "output_type": "stream",
     "text": [
      "0\n",
      "1\n",
      "2\n",
      "3\n",
      "4\n",
      "5\n",
      "6\n",
      "7\n",
      "8\n",
      "9\n"
     ]
    },
    {
     "data": {
      "text/plain": [
       "87.70172509738453"
      ]
     },
     "execution_count": 144,
     "metadata": {},
     "output_type": "execute_result"
    },
    {
     "data": {
      "image/png": "[encoded data removed]",
      "text/plain": [
       "<Figure size 432x288 with 1 Axes>"
      ]
     },
     "metadata": {
      "needs_background": "light"
     },
     "output_type": "display_data"
    }
   ],
   "source": [
    "lmbda = 0.1\n",
    "k = 10\n",
    "theta = np.zeros((k,n)) #inital parameters\n",
    "for i in range(k):\n",
    "    digit_class = i\n",
    "    print(digit_class)\n",
    "#     theta[i] = opt.fmin_cg(f = getCost, x0 = theta[i],  fprime = getGradients, args = (X, (y == digit_class).flatten(), lmbda), maxiter = 50)\n",
    "    costs, theta[i] = gradientDescent(theta[i], X, (y == digit_class).flatten())\n",
    "#     print(costs[:50])\n",
    "    plt.plot(costs)\n",
    "    \n",
    "pred = np.argmax(X @ theta.T, axis = 1)\n",
    "pred = [e if e else 10 for e in pred]\n",
    "np.mean(pred == y.flatten()) * 100"
   ]
  },
  {
   "cell_type": "code",
   "execution_count": null,
   "metadata": {},
   "outputs": [],
   "source": []
  },
  {
   "cell_type": "code",
   "execution_count": null,
   "metadata": {},
   "outputs": [],
   "source": []
  }
 ],
 "metadata": {
  "celltoolbar": "Raw Cell Format",
  "kernelspec": {
   "display_name": "Python 3",
   "language": "python",
   "name": "python3"
  },
  "language_info": {
   "codemirror_mode": {
    "name": "ipython",
    "version": 3
   },
   "file_extension": ".py",
   "mimetype": "text/x-python",
   "name": "python",
   "nbconvert_exporter": "python",
   "pygments_lexer": "ipython3",
   "version": "3.7.3"
  }
 },
 "nbformat": 4,
 "nbformat_minor": 4
}
